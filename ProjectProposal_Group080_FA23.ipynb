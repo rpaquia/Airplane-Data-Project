{
 "cells": [
  {
   "cell_type": "markdown",
   "metadata": {},
   "source": [
    "# COGS 108 - Project Proposal"
   ]
  },
  {
   "cell_type": "markdown",
   "metadata": {},
   "source": [
    "# Names\n",
    "\n",
    "- Helen Yang\n",
    "- Janette Lim\n",
    "- Yiyi Huang\n",
    "- Vanessa Hinds\n",
    "- Ryan Paquia\n"
   ]
  },
  {
   "cell_type": "markdown",
   "metadata": {},
   "source": [
    "# Research Question"
   ]
  },
  {
   "cell_type": "markdown",
   "metadata": {},
   "source": [
    "How does the fluctuation and diversity in airfare rates, encompassing changes in pricing, discounts, seasonal offers, and other variations across airlines Delta, Jetblue Airways, Spirit, American Airlines, and United, impact the amount of tourism domestically in the US per city during peak tourism seasons?"
   ]
  },
  {
   "cell_type": "markdown",
   "metadata": {},
   "source": [
    "## Background and Prior Work"
   ]
  },
  {
   "cell_type": "markdown",
   "metadata": {},
   "source": [
    "The global tourism industry is largely influenced by a myriad of factors, including economic conditions, cultural appeal, and accessibility of transportation. One of the crucial factors that shape travel patterns is the fluctuation and diversity in airfare rates offered by airlines. The interplay between airfare pricing dynamics, seasonal discounts, and variations across multiple airlines can significantly impact the decisions of tourists from various regions. \n",
    "\n",
    "This research delves into the intricate relationship between airfare rates and the number of tourists in the US. Furthermore, airfare rates are known to fluctuate due to various reasons including operational costs, fuel prices, market competition, and the varying strategies adopted by airlines Delta, Jetblue Airways, Spirit, American Airlines, and United to promote more ticket purchases from the customers. These pricing variations are often influenced by seasonal discounts, special offers, and promotional packages that affect the affordability and desirability of travel for potential tourists. Through an in-depth analysis of these dynamics, this research aims to shed light on the interconnection between airline pricing strategies and the influx of tourists, thereby offering valuable insights for stakeholders within the tourism industry to optimize their strategies and cater to the demands of travelers during peak seasons.  \n",
    "\n",
    "Furthermore, from the initial research on the relationship between ticket price rates and tourism dynamics, it became evident that the fundamental correlation between ticket prices, airline costs, and their impact on a country’s Gross Domestic Product (GDP). It mostly suggests that improved airport infrastructure and direct airline connections are key factors in reducing costs, which encourages tourism in specific destinations. The interdependence between air transport and tourism is essential due to their derived nature, where most air travel is motivated by the need to reach specific destinations for various purposes, notably tourism-related activities such as leisure, business, and visiting friends and relatives, among others. According to studies by Papatheodorou, enhanced accessibility through improved airport infrastructure and direct airline connections can reduce costs (both monetary and time-related) and stimulate tourism in specific destinations <a name=\"cite_ref-1\"></a>[<sup>1<sup>](#cite_note-1). Furthermore, the study by Hong Tsui underscores the significance of the Low-Cost Carrier (LCC) impact on New Zealand's major regions and tourist destinations. Understanding the LCC's influence on key areas which collectively drive a substantial share of the country's domestic guest nights, is vital. The study highlights the potential benefits of expanding LCC operations to smaller regions, potentially stimulating domestic tourism demand and fostering economic growth, emphasizing the crucial relationship between affordable air travel and the broader economic landscape <a name=\"cite_ref-2\"></a>[<sup>2<sup>](#cite_note-2).\n",
    "\n",
    "**Reference:**\n",
    "\n",
    "1. <a name=\"cite_note-1\"></a> [^](#cite_ref-1) Papatheodorou, Andreas. “A review of research into air transport and tourism: Launching the Annals of Tourism Research Curated Collection on Air Transport and Tourism” Annals of Tourism Research vol. 87 (2021): 103151. ISSN 0160-7383, doi.org:10.1016/j.annals.2021.103151 https://www.sciencedirect.com/science/article/pii/S016073832100013X\n",
    "\n",
    "2. <a name=\"cite_note-2\"></a> [^](#cite_ref-2) Hong Tsui, Kan Wai. “Does a low-cost carrier lead the domestic tourism demand and growth of New Zealand?.” Tourism management vol. 60 (2017): 390-403. doi:10.1016/j.tourman.2016.10.013 https://www.ncbi.nlm.nih.gov/pmc/articles/PMC7115627/\n"
   ]
  },
  {
   "cell_type": "markdown",
   "metadata": {},
   "source": [
    "# Hypothesis\n"
   ]
  },
  {
   "cell_type": "markdown",
   "metadata": {},
   "source": [
    "- Our team hypothesizes that a substantial decrease in airfare rates offered by airlines will correspond with a notable increase in the volume of tourists. \n",
    "\n",
    "- Our reasoning behind this hypothesis is grounded in the basic economic principle that lower prices often stimulate demand. We expect reduced airfare rates, including discounts and promotional offers, will make travel more financially feasible and attractive for tourists. \n"
   ]
  },
  {
   "cell_type": "markdown",
   "metadata": {},
   "source": [
    "# Data"
   ]
  },
  {
   "cell_type": "markdown",
   "metadata": {},
   "source": [
    "The ideal dataset we would want to answer our question would contain variables dictating start and destination cities, dates across many months/years broken down to month intervals, the price for airplane tickets for those dates, as well as the number of seats taken and remaining on those flights. Given that airplane travel is used by an incredible number of people we would need observations at least numbering in the thousands. This data would be collected by people who work in the airline industry, that track all the data needed to run an airline. They would obtain the data through the airport’s database and store them into a CSV file containing all the variables our team would need to run our project. In addition to this, we would want to eliminate as many confounding variables as we can such as COVID and inflation. So we want datasets that don’t coincide with COVID dates and data that adjust for inflation.\n",
    "\n",
    "### Datasets for Price\n",
    "\n",
    "1. [Flight Prices India (Feb - March 2022)](https://www.kaggle.com/datasets/chromegoogle/flight-price/data) - Vistara, Air India, IndiGo, AirAsia, GO FIRST.\n",
    "2. [Predicting Flight Fares India (Jan - March 2023)](https://www.kaggle.com/datasets/yashdharme36/airfare-ml-predicting-flight-fares) - Vistara, Air India, IndiGo, AirAsia, GO FIRST.\n",
    "3. [US Domestic Flight Prices (Apr - Oct 2022)](https://www.kaggle.com/datasets/dilwong/flightprices) - United States domestic flights.\n",
    "4. [Flight Fares India Domestic (2019)](https://www.kaggle.com/code/ananyanandi02/statistical-analysis-eda-for-flight-fare/input) - Large range of months in 2019.\n",
    "\n",
    "### Datasets for Number of Passengers or Number of Flights\n",
    "\n",
    "1. [Number of Flights by Month (US)](https://www.transtats.bts.gov/Data_Elements.aspx?Data=4) - Filter by airport, according to destination or origin (US).\n",
    "2. [Passengers Carried in India by Month](https://www.dgca.gov.in/digigov-portal/?page=259/4184/servicename)\n",
    "\n",
    "\n"
   ]
  },
  {
   "cell_type": "markdown",
   "metadata": {},
   "source": [
    "# Ethics & Privacy"
   ]
  },
  {
   "cell_type": "markdown",
   "metadata": {},
   "source": [
    "**Data Collection**\n",
    "\n",
    "We are using already-existing data, which is open source and free for use. We cannot control how the data was collected, but we do have the skills to determine if the datasets are ethically built. Due to airline policies, the PNR cannot be handed out outside of the operational team, sometimes inclusive of law enforcement. This is reflected in the datasets we will be using, as they do not include passengers’ names, ages, passport numbers, nationality, or other PII. This ensures passengers’ privacy and safety. \n",
    "\n",
    "The bias in the data we are using is limited by the fact that we are not considering passengers’ demographics (i.e. race, ethnicity, age, etc.). However, we are indirectly analyzing the influence of socioeconomic status on both airfares and passenger influx. This is partly because some airlines are low-cost carriers while others are not (think JetBlue versus Delta). To this end, we will ensure to consider what type of carriers we are including in our own data. \n",
    "\n",
    "**Data Storage**\n",
    "\n",
    "Since the data we are using is open source, we cannot encrypt the datasets themselves, but we can still make sure to remove any PII from our analysis if we find an extra dataset that we may want to work with to expand the scope of our project. We will have our own data on a public repository on GitHub, which means that a user technically can request their personal data be removed if they recognize an observation being their own. However, this is unlikely as virtually no PII is needed for our project. \n",
    "\n",
    "**Analysis**\n",
    "\n",
    "One limitation is that not all base rates for tickets include the same perks and amenities. For example, low-cost carriers nearly always limit the amount of bags per passenger, sometimes without the ability to pay for an extra bag. However, our analysis does not take into consideration the cost of these perks or whether the passenger elects to purchase additional benefits. We are solely interested in the price of the fare itself versus the amount of passengers flying with individual airlines to and from particular destinations. \n",
    "\n",
    "We will be using statistical analyses such as correlation for our project, which aims to find a relationship but not a cause. This would mean that there may be underlying data influencing our conclusions that we are not taking into account. We can acknowledge this in the discussion of our project. However, our visualizations, etc. will attempt to be as honest as possible to the variables denoted in our question. \n",
    "\n",
    "**Deployment**\n",
    "\n",
    "If we find that our content is harmful or can become harmful, we can quickly mitigate this by making the repository inaccessible to the public via GitHub. However, we cannot fully control how other users who fork our repository may use our data. This is why we are being careful with deleting PII and demographic information. We want to prevent said users from abusing passengers’ safety and privacy. \n"
   ]
  },
  {
   "cell_type": "markdown",
   "metadata": {},
   "source": [
    "# Team Expectations "
   ]
  },
  {
   "cell_type": "markdown",
   "metadata": {},
   "source": [
    "- We expect a comprehensive weekly plan during our meetings, outlining each team member's designated tasks. It is expected that every team member takes complete ownership and responsibility for their assigned task.\n",
    "\n",
    "- We expect every team member to actively participate in the scheduled meetings and hold respectful communication for better collaboration. \n",
    "\n",
    "- We expect our team members to communicate respectfully if there is a disagreement regarding certain decisions within the project and to be open to compromise, constructive criticism, and collaboration if necessary. \n"
   ]
  },
  {
   "cell_type": "markdown",
   "metadata": {},
   "source": [
    "# Project Timeline Proposal"
   ]
  },
  {
   "cell_type": "markdown",
   "metadata": {},
   "source": [
    "| Meeting Date | Meeting Time | Completed Before Meeting | Discuss at Meeting |\n",
    "|--------------|--------------|--------------------------|--------------------|\n",
    "| 10/23        | 3 PM         | Read & Think about COGS 108 expectations; brainstorm topics/questions | Determine best form of communication; Discuss and decide on final project topic; discuss hypothesis; begin background research |\n",
    "| 10/29        | 5 PM         | Do background research on topic | Discuss ideal dataset(s) and ethics; draft project proposal |\n",
    "| 11/1         | 5 PM         | Edit, finalize, and submit proposal; Search for datasets | Assign group members to lead each specific part |\n",
    "| 11/10        | 6 PM         | Import & Wrangle Data; EDA | Review/Edit wrangling/EDA; Discuss Analysis Plan |\n",
    "| 11/15        | 12 PM        | Begin Analysis | Discuss/edit Analysis; Complete project check-in 1 |\n",
    "| 11/26        | 12 PM        | Complete analysis; Draft results/conclusion/discussion | Complete project check-in 2 |\n",
    "| 12/13        | Before 11:59 PM | NA | Turn in Final Project & Group Project Surveys |\n"
   ]
  },
  {
   "cell_type": "markdown",
   "metadata": {},
   "source": []
  }
 ],
 "metadata": {
  "kernelspec": {
   "display_name": "python3",
   "language": "python",
   "name": "python3"
  }
 },
 "nbformat": 4,
 "nbformat_minor": 2
}
